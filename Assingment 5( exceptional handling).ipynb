{
 "cells": [
  {
   "cell_type": "code",
   "execution_count": 1,
   "metadata": {},
   "outputs": [
    {
     "name": "stdout",
     "output_type": "stream",
     "text": [
      "Cann't divide by zero\n"
     ]
    }
   ],
   "source": [
    "# 1. Write a function to compute 5/0 and use try/except to catch the exceptions.\n",
    "\n",
    "def divide_by_zero(x):\n",
    "    try:\n",
    "        x/0\n",
    "    except:\n",
    "        print(\"Cann't divide by zero\")\n",
    "        \n",
    "divide_by_zero(5)"
   ]
  },
  {
   "cell_type": "code",
   "execution_count": 2,
   "metadata": {},
   "outputs": [],
   "source": [
    "# 2. Implement a Python program to generate all sentences where:\n",
    "\"\"\"\n",
    "subject is in  [\"Americans\", \"Indians\"] and \n",
    "verb is in [\"Play\", \"watch\"] and \n",
    "object is in [\"Baseball\",\"cricket\"].\n",
    "\"\"\"\n",
    "\n",
    "\n",
    "subject = [\"Americans\", \"Indians\"]\n",
    "verb = [\"Play\", \"watch\"]\n",
    "objt = [\"Baseball\",\"cricket\"]\n",
    "\n",
    "all_sentense = [s+\" \"+ v+\" \"+o for s in subject for v in verb for o in objt]"
   ]
  },
  {
   "cell_type": "code",
   "execution_count": 3,
   "metadata": {},
   "outputs": [
    {
     "data": {
      "text/plain": [
       "['Americans Play Baseball',\n",
       " 'Americans Play cricket',\n",
       " 'Americans watch Baseball',\n",
       " 'Americans watch cricket',\n",
       " 'Indians Play Baseball',\n",
       " 'Indians Play cricket',\n",
       " 'Indians watch Baseball',\n",
       " 'Indians watch cricket']"
      ]
     },
     "execution_count": 3,
     "metadata": {},
     "output_type": "execute_result"
    }
   ],
   "source": [
    "all_sentense"
   ]
  },
  {
   "cell_type": "code",
   "execution_count": null,
   "metadata": {},
   "outputs": [],
   "source": []
  }
 ],
 "metadata": {
  "kernelspec": {
   "display_name": "Python 3",
   "language": "python",
   "name": "python3"
  },
  "language_info": {
   "codemirror_mode": {
    "name": "ipython",
    "version": 3
   },
   "file_extension": ".py",
   "mimetype": "text/x-python",
   "name": "python",
   "nbconvert_exporter": "python",
   "pygments_lexer": "ipython3",
   "version": "3.8.3"
  }
 },
 "nbformat": 4,
 "nbformat_minor": 4
}
