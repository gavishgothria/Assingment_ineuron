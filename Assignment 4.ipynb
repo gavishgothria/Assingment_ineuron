{
 "cells": [
  {
   "cell_type": "code",
   "execution_count": 1,
   "metadata": {},
   "outputs": [
    {
     "name": "stdout",
     "output_type": "stream",
     "text": [
      "a = 3\n",
      "b = 5\n",
      "c = 7\n",
      "6.49519052838329\n"
     ]
    }
   ],
   "source": [
    "# 1.1 Write a Python Program(with class concepts) to find the area of the triangle using the below formula.\n",
    "# area = (s*(s-a)*(s-b)*(s-c)) ** 0.5\n",
    "# Function to take the length of the sides of triangle from user should be defined in the parent class and function to calculate the area should be defined in subclass.\n",
    "\n",
    "class Poly:\n",
    "    def __init__(self,a,b,c):\n",
    "        self.a = float(a)\n",
    "        self.b = float(b)\n",
    "        self.c = float(c)\n",
    "a = int(input(\"a = \"))\n",
    "b = int(input(\"b = \"))\n",
    "c = int(input(\"c = \"))\n",
    "\n",
    "class Triangle(Poly):\n",
    "    def __init__(self,a,b,c):\n",
    "        super().__init__(a,b,c)\n",
    "        \n",
    "    def get_area(self):\n",
    "        s = (a + b + c) / 2\n",
    "        return (s*(s-a)*(s-b)*(s-c)) ** 0.5        \n",
    "t = Triangle(a,b,c)\n",
    "print(t.get_area())"
   ]
  },
  {
   "cell_type": "code",
   "execution_count": 2,
   "metadata": {},
   "outputs": [
    {
     "data": {
      "text/plain": [
       "['Hostage', 'MOney', 'Hiest', 'Program']"
      ]
     },
     "execution_count": 2,
     "metadata": {},
     "output_type": "execute_result"
    }
   ],
   "source": [
    "# 1.2 Write a function filter_long_words() that takes a list of words and an integer n and returns the list of words that are longer than n.\n",
    "\n",
    "def filter_long_words(l,n):\n",
    "    a = []\n",
    "    for i in l:\n",
    "        length = len(i)\n",
    "        if length>n:\n",
    "            a.append(i)\n",
    "    return a\n",
    "\n",
    "l = [\"Hostage\",\"King\",\"MOney\",\"Hiest\",\"Program\"]\n",
    "filter_long_words(l,4)"
   ]
  },
  {
   "cell_type": "code",
   "execution_count": 3,
   "metadata": {},
   "outputs": [
    {
     "data": {
      "text/plain": [
       "[7, 4, 5, 5, 7]"
      ]
     },
     "execution_count": 3,
     "metadata": {},
     "output_type": "execute_result"
    }
   ],
   "source": [
    "# 2.1 Write a Python program using function concept that maps list of words into a list of integers representing the lengths of the corresponding words.\n",
    "\n",
    "def maps_words_to_integer(l):\n",
    "    return [len(i) for i in l]\n",
    "    \n",
    "\n",
    "l = [\"Hostage\",\"King\",\"MOney\",\"Hiest\",\"Program\"]\n",
    "maps_words_to_integer(l)"
   ]
  },
  {
   "cell_type": "code",
   "execution_count": 4,
   "metadata": {},
   "outputs": [
    {
     "name": "stdout",
     "output_type": "stream",
     "text": [
      "True\n",
      "False\n"
     ]
    }
   ],
   "source": [
    "# 2.2 Write a Python function which takes a character(i.e a string of length 1) and return True if it is a vowel,False otherwise.\n",
    "def isVowel(s):\n",
    "    return True if s in \"aeiou\" else False\n",
    "\n",
    "print(isVowel('e'))\n",
    "print(isVowel('n'))"
   ]
  }
 ],
 "metadata": {
  "kernelspec": {
   "display_name": "Python 3",
   "language": "python",
   "name": "python3"
  },
  "language_info": {
   "codemirror_mode": {
    "name": "ipython",
    "version": 3
   },
   "file_extension": ".py",
   "mimetype": "text/x-python",
   "name": "python",
   "nbconvert_exporter": "python",
   "pygments_lexer": "ipython3",
   "version": "3.8.3"
  }
 },
 "nbformat": 4,
 "nbformat_minor": 4
}
